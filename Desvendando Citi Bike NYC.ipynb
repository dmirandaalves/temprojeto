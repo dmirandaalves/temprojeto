{
 "cells": [
  {
   "cell_type": "markdown",
   "metadata": {},
   "source": [
    "# Citi Bike NYC por Daniel Miranda :)\n",
    "Olá! O objetivo desse notebook é de explorar as bases disponiblizadas do Citi Bike NYC, que podem ser encontradas [aqui](https://data.world/citibikenyc/).\n",
    "<br>\n",
    "Para abordar de uma forma sistemática, a divisão desse projeto analítico será nas seguintes etapas:\n",
    "<br>\n",
    "- Contexto;\n",
    "- Pegando os dados;\n",
    "- Análise exploratória;\n",
    "- Preparação dos dados para a modelagem;\n",
    "- Modelagem e otimização;\n",
    "- Desfecho e recomendações futuras;"
   ]
  },
  {
   "cell_type": "markdown",
   "metadata": {},
   "source": [
    "## 1. Contexto\n",
    "A Citi Bike NYC trabalha com o compartilhamento de bicicletas pela cidade de NY e disponibilizou gratuitamente seus dados de uso para eventuais análises.\n",
    "Dessa forma, vamos usar esses dados para **buscar insights que possam alavancar o negócio**, assim como **criar um modelo para prever a utilização das bicicletas**.\n",
    "<br>\n",
    "<br>\n",
    "Os insights têm como objetivo principal gerar discussões e recomendações para o negócio, enquanto a modelagem da utilização das bicicletas pode impactar algumas rotinas da  Citi Bike NYC:\n",
    "- Otimização no headcount de equipes operacionais (externas e internas);\n",
    "- Acuracidade no planejamento do orçamento;\n",
    "- Estimar crescimento para que haja recursos suficientes para os clientes;"
   ]
  },
  {
   "cell_type": "markdown",
   "metadata": {},
   "source": [
    "## 2. Pegando os dados\n",
    "\n",
    "#### 2.1 Trip Data\n",
    "\n",
    "A primeira base de trabalho nos fornece dados de cada viagem, incluindo: tempo de uso, datas de início e término, estações de início e de fim (assim como latitude/longitude), tipo de cliente, gênero e idade.\n",
    "<br>\n",
    "Para uma boa parte da nossa exploração e modelagem, **vamos tratar a base para consolidar o uso por hora de cada dia**.\n",
    "<br>\n",
    "Usaremos as bases entre **Janeiro e Dezembro de 2017**.\n",
    "<br>\n",
    "#### 2.2 Clima\n",
    "\n",
    "Para enriquecer as nossas análises, buscamos os dados de clima disponíveis pelo [National Center for Environmental Information](https://www.ncdc.noaa.gov/). Nossa referência aqui foi buscar a estação meteorológica do Central Park e **de hora em hora**. O objetivo é usar não só os histórico de uso, mas também **o impacto do clima no uso das bicicletas**.\n",
    "<br>\n",
    "Os dados foram recebidos via FTP:\n",
    "<br>\n",
    "#### 2.3 Feriados\n",
    "\n",
    "Da mesma forma, vamos enriquecer nossa base com os feriados para entender o impacto na operação. Os dados foram obtidos no [Office Holidays.com](https://www.officeholidays.com/countries/usa/new-york/2017) e apenas considerados os feriados federais e locais."
   ]
  },
  {
   "cell_type": "code",
   "execution_count": 1,
   "metadata": {},
   "outputs": [],
   "source": [
    "#Como estou usando um notebook que não pode performar esse volume, vou usar o dask para programação paralela\n",
    "import dask.dataframe as dd\n",
    "import warnings\n",
    "warnings.filterwarnings(\"ignore\")\n",
    "\n",
    "data_01 = dd.read_csv('201701-citibike-tripdata.csv')\n",
    "data_02 = dd.read_csv('201702-citibike-tripdata.csv')\n",
    "data_03 = dd.read_csv('201703-citibike-tripdata.csv')\n",
    "data_04 = dd.read_csv('201704-citibike-tripdata.csv')\n",
    "data_05 = dd.read_csv('201705-citibike-tripdata.csv')\n",
    "data_06 = dd.read_csv('201706-citibike-tripdata.csv')\n",
    "data_07 = dd.read_csv('201707-citibike-tripdata.csv')\n",
    "data_08 = dd.read_csv('201708-citibike-tripdata.csv')\n",
    "data_09 = dd.read_csv('201709-citibike-tripdata.csv')\n",
    "data_10 = dd.read_csv('201710-citibike-tripdata.csv')\n",
    "data_11 = dd.read_csv('201711-citibike-tripdata.csv')\n",
    "data_12 = dd.read_csv('201712-citibike-tripdata.csv')"
   ]
  },
  {
   "cell_type": "code",
   "execution_count": 2,
   "metadata": {},
   "outputs": [],
   "source": [
    "#Observei que os três primeiros meses contam com um padrão diferente de colunas, aqui vamos renomear\n",
    "\n",
    "new_columns = ['tripduration', 'starttime', 'stoptime', 'start station id',\n",
    "       'start station name', 'start station latitude',\n",
    "       'start station longitude', 'end station id', 'end station name',\n",
    "       'end station latitude', 'end station longitude', 'bikeid', 'usertype',\n",
    "       'birth year', 'gender']\n",
    "\n",
    "data_01 = data_01.rename(columns=dict(zip(data_01.columns, new_columns)))\n",
    "data_02 = data_02.rename(columns=dict(zip(data_02.columns, new_columns)))\n",
    "data_03 = data_03.rename(columns=dict(zip(data_03.columns, new_columns)))"
   ]
  },
  {
   "cell_type": "code",
   "execution_count": 3,
   "metadata": {},
   "outputs": [],
   "source": [
    "#Feito isso, vamos concatenar o um ano de dados\n",
    "data_full = dd.concat([data_01,data_02,data_03,data_04,data_05,data_06,data_07,data_08,data_09,data_10,data_11,data_12], interleave_partitions=True)"
   ]
  },
  {
   "cell_type": "code",
   "execution_count": 4,
   "metadata": {},
   "outputs": [],
   "source": [
    "#Aqui, manipulamos as datas para consolidar\n",
    "data_full['Year'] = data_full['starttime'].str[:4]\n",
    "data_full['Month'] = data_full['starttime'].str[5:7]\n",
    "data_full['Day'] = data_full['starttime'].str[8:10]\n",
    "data_full['Hour'] = data_full['starttime'].str[11:13]"
   ]
  },
  {
   "cell_type": "code",
   "execution_count": 5,
   "metadata": {},
   "outputs": [],
   "source": [
    "#Aqui, começamos a manipular por tipo de cliente\n",
    "data_full_subscriber = data_full[data_full['usertype'] == 'Subscriber']\n",
    "data_full_customer = data_full[data_full['usertype'] == 'Customer']"
   ]
  },
  {
   "cell_type": "code",
   "execution_count": 6,
   "metadata": {},
   "outputs": [],
   "source": [
    "#Manipulando a base em células diferentes apenas para uma questão de performance\n",
    "data_full_subscriber_by_day = data_full_subscriber.groupby(['Month','Day','Hour']).count().compute()"
   ]
  },
  {
   "cell_type": "code",
   "execution_count": 7,
   "metadata": {},
   "outputs": [],
   "source": [
    "#Idem, apenas indo para a parte 2\n",
    "data_full_customer_by_day = data_full_customer.groupby(['Month','Day','Hour']).count().compute()"
   ]
  },
  {
   "cell_type": "code",
   "execution_count": 8,
   "metadata": {},
   "outputs": [],
   "source": [
    "#Concluímos a primeira etapa de tratamento\n",
    "import pandas as pd\n",
    "\n",
    "data_full_by_type = pd.merge(data_full_subscriber_by_day['tripduration'],data_full_customer_by_day['tripduration'], left_index = True, right_index = True, how = 'left')\n",
    "data_full_by_type = data_full_by_type.fillna(0)\n",
    "data_full_by_type.rename(columns={'tripduration_x':'Subscribers','tripduration_y':'Customers'}, inplace = True)\n",
    "data_full_by_type['Total'] = data_full_by_type['Subscribers'] + data_full_by_type['Customers']"
   ]
  },
  {
   "cell_type": "code",
   "execution_count": 9,
   "metadata": {},
   "outputs": [],
   "source": [
    "#Aqui, vamos trabalhar a base de temperatura de Nova York. Como é uma base pequena, vamos seguir direto com Pandas\n",
    "weather = pd.read_fwf('weather-nyc.txt')\n",
    "weather['YR--MODAHRMN'] = weather['YR--MODAHRMN'].astype(str)\n",
    "\n",
    "weather['Data Completa'] = pd.to_datetime(weather['YR--MODAHRMN'], format= '%Y%m%d%H%M')\n",
    "\n",
    "#Precisamos corrigir a nossa data, pois está em GMT e precisamos diminuir 5 horas por conta do fuso de NY\n",
    "time_delta = pd.Timedelta(hours=5)\n",
    "weather['Data Corrigida'] = (weather['Data Completa'] - time_delta)\n",
    "\n",
    "#Aqui aproveitamos e tiramos o dia da semana\n",
    "weather['Dia Semana'] = weather['Data Corrigida'].dt.weekday\n",
    "\n",
    "#Vamos incluir o dia da semana\n",
    "dia_da_semana = {0:'Segunda',1:'Terca',2:'Quarta',3:'Quinta',4:'Sexta',5:'Sábado',6:'Domingo'}\n",
    "weather['Dia da Semana'] = weather['Dia Semana'].map(dia_da_semana)\n",
    "\n",
    "#Ajustando datas para concatenar com o restante da base\n",
    "weather['Data Corrigida'] = weather['Data Corrigida'].astype(str)\n",
    "weather['Ano'] = weather['Data Corrigida'].str[0:4]\n",
    "weather['Month'] = weather['Data Corrigida'].str[5:7]\n",
    "weather['Day'] = weather['Data Corrigida'].str[8:10]\n",
    "weather['Hour'] = weather['Data Corrigida'].str[11:13]\n",
    "\n",
    "#Filtrando apenas anos de 2017.\n",
    "weather_nyc = weather[weather['Ano'] == '2017']\n",
    "\n",
    "#Vamos pegar alguns dados que são relevantes\n",
    "weather_nyc['Chuva'] = weather['PCP01 PCP06 PCP24 PCPXX SD'].str[:4]\n",
    "weather_nyc['Neve'] = weather['PCP01 PCP06 PCP24 PCPXX SD'].str[23:]\n",
    "\n",
    "columns = ['Month','Day','Hour','Dia da Semana','Chuva','Neve','CLG','SKC','TEMP','DEWP']\n",
    "\n",
    "weather_nyc_final = weather_nyc[columns].set_index(['Month','Day','Hour'])"
   ]
  },
  {
   "cell_type": "code",
   "execution_count": 10,
   "metadata": {},
   "outputs": [],
   "source": [
    "#Agora vamos juntar a base de clientes com a base de clima para um tratamento final de valores faltantes\n",
    "final_data_set = pd.merge(data_full_by_type,weather_nyc_final, left_index = True, right_index = True, how = 'left')\n",
    "\n",
    "#Aqui estamos removendo os dados após as 18h, pois não temos nenhum valor climático\n",
    "data_set = final_data_set.iloc[:11453]\n",
    "\n",
    "#Aqui trabalhamos com os números faltantes. Em relação á neve, zeramos, assim como a Chuva\n",
    "#SKC trabalhará com o valor mais frequente, e temperatura/DEWP entrará com a média\n",
    "\n",
    "import numpy as np\n",
    "\n",
    "data_set['Neve'] = data_set['Neve'].replace('**',0)\n",
    "data_set['Neve'] = data_set['Neve'].replace(' **',0)\n",
    "data_set['SKC'] = data_set['SKC'].replace('***','CLR')\n",
    "data_set['Chuva'] = data_set['Chuva'].replace('****',0)\n",
    "data_set['CLG'] = data_set['CLG'].replace('***','722')\n",
    "\n",
    "data_set['TEMP'] = data_set['TEMP'].replace('****',np.nan).astype('float64')\n",
    "media_temp = np.sum(data_set['TEMP'])/len(data_set['TEMP'])\n",
    "data_set['TEMP'] = data_set['TEMP'].replace(np.nan,media_temp)\n",
    "\n",
    "data_set['DEWP'] = data_set['DEWP'].replace('****',np.nan).astype('float64')\n",
    "media_dewp = np.sum(data_set['DEWP'])/len(data_set['DEWP'])\n",
    "data_set['DEWP'] = data_set['DEWP'].replace(np.nan,media_dewp)\n",
    "#Temos a falta de um dado de clima, vamos remove-lo da nossa base\n",
    "data_set = data_set.drop(('09','12','14'))"
   ]
  },
  {
   "cell_type": "code",
   "execution_count": 11,
   "metadata": {},
   "outputs": [],
   "source": [
    "#Nossa última base vamos construir manualmente com os feriados\n",
    "hours = ['00','01','02','03','04','05','06','07','08','09','10','11','12','13','14','15','16','17','18','19','20','21','22','23']\n",
    "\n",
    "#Feriado 1 = 02 de janeiro\n",
    "\n",
    "feriado1 = pd.DataFrame(hours)\n",
    "feriado1['Month'] = '01'\n",
    "feriado1['Day'] = '02'\n",
    "\n",
    "#Feriado 2 = 16 de janeiro\n",
    "feriado2 = pd.DataFrame(hours)\n",
    "feriado2['Month'] = '01'\n",
    "feriado2['Day'] = '16'\n",
    "\n",
    "#Feriado 3 = 20 de fevereiro\n",
    "feriado3 = pd.DataFrame(hours)\n",
    "feriado3['Month'] = '02'\n",
    "feriado3['Day'] = '20'\n",
    "\n",
    "#Feriado 4 = 29 de maio\n",
    "feriado4 = pd.DataFrame(hours)\n",
    "feriado4['Month'] = '05'\n",
    "feriado4['Day'] = '29'\n",
    "\n",
    "#Feriado 5 = 04 de julho\n",
    "feriado5 = pd.DataFrame(hours)\n",
    "feriado5['Month'] = '07'\n",
    "feriado5['Day'] = '04'\n",
    "\n",
    "#Feriado 6 = 04 de setembro\n",
    "feriado6 = pd.DataFrame(hours)\n",
    "feriado6['Month'] = '09'\n",
    "feriado6['Day'] = '04'\n",
    "\n",
    "#Feriado 7 = 09 de outubro\n",
    "feriado7 = pd.DataFrame(hours)\n",
    "feriado7['Month'] = '10'\n",
    "feriado7['Day'] = '09'\n",
    "\n",
    "#Feriado 8 = 10 de novembro\n",
    "feriado8 = pd.DataFrame(hours)\n",
    "feriado8['Month'] = '11'\n",
    "feriado8['Day'] = '10'\n",
    "\n",
    "#Feriado 9 = 23 de novembro\n",
    "feriado9 = pd.DataFrame(hours)\n",
    "feriado9['Month'] = '11'\n",
    "feriado9['Day'] = '23'\n",
    "\n",
    "#Feriado 10 = 25 de dezembro\n",
    "feriado10 = pd.DataFrame(hours)\n",
    "feriado10['Month'] = '12'\n",
    "feriado10['Day'] = '25'\n",
    "\n",
    "feriados = pd.concat([feriado1,feriado2,feriado3,feriado4,feriado5,feriado6,feriado7,feriado8,feriado9,feriado10])\n",
    "feriados['Feriado'] = 1\n",
    "feriados.rename(columns={0:'Hour'}, inplace = True)\n",
    "lista_de_feriados = feriados.set_index(['Month','Day','Hour'])\n",
    "\n",
    "#Juntando os nossos feriados na base e ajustando os tipos de variáveis\n",
    "data_set_final = pd.merge(data_set, lista_de_feriados, left_index = True, right_index = True, how = 'left')\n",
    "data_set_final['Feriado'] = data_set_final['Feriado'].replace(np.nan,0)\n",
    "data_set_final['Customers'] = data_set_final['Customers'].astype('int64')\n",
    "data_set_final['Total'] = data_set_final['Total'].astype('int64')\n",
    "data_set_final['Chuva'] = data_set_final['Chuva'].astype('float64')\n",
    "data_set_final['Neve'] = data_set_final['Neve'].astype('float64')\n",
    "data_set_final['TEMP'] = data_set_final['TEMP'].astype('int64')\n",
    "data_set_final['DEWP'] = data_set_final['DEWP'].astype('int64')\n",
    "data_set_final['Feriado'] = data_set_final['Feriado'].astype('object')"
   ]
  },
  {
   "cell_type": "code",
   "execution_count": 12,
   "metadata": {},
   "outputs": [
    {
     "data": {
      "text/html": [
       "<div>\n",
       "<style scoped>\n",
       "    .dataframe tbody tr th:only-of-type {\n",
       "        vertical-align: middle;\n",
       "    }\n",
       "\n",
       "    .dataframe tbody tr th {\n",
       "        vertical-align: top;\n",
       "    }\n",
       "\n",
       "    .dataframe thead th {\n",
       "        text-align: right;\n",
       "    }\n",
       "</style>\n",
       "<table border=\"1\" class=\"dataframe\">\n",
       "  <thead>\n",
       "    <tr style=\"text-align: right;\">\n",
       "      <th></th>\n",
       "      <th></th>\n",
       "      <th></th>\n",
       "      <th>Subscribers</th>\n",
       "      <th>Customers</th>\n",
       "      <th>Total</th>\n",
       "      <th>Dia da Semana</th>\n",
       "      <th>Chuva</th>\n",
       "      <th>Neve</th>\n",
       "      <th>CLG</th>\n",
       "      <th>SKC</th>\n",
       "      <th>TEMP</th>\n",
       "      <th>DEWP</th>\n",
       "      <th>Feriado</th>\n",
       "    </tr>\n",
       "    <tr>\n",
       "      <th>Month</th>\n",
       "      <th>Day</th>\n",
       "      <th>Hour</th>\n",
       "      <th></th>\n",
       "      <th></th>\n",
       "      <th></th>\n",
       "      <th></th>\n",
       "      <th></th>\n",
       "      <th></th>\n",
       "      <th></th>\n",
       "      <th></th>\n",
       "      <th></th>\n",
       "      <th></th>\n",
       "      <th></th>\n",
       "    </tr>\n",
       "  </thead>\n",
       "  <tbody>\n",
       "    <tr>\n",
       "      <td rowspan=\"5\" valign=\"top\">01</td>\n",
       "      <td rowspan=\"5\" valign=\"top\">01</td>\n",
       "      <td>00</td>\n",
       "      <td>295</td>\n",
       "      <td>58</td>\n",
       "      <td>353</td>\n",
       "      <td>Domingo</td>\n",
       "      <td>0.0</td>\n",
       "      <td>0.0</td>\n",
       "      <td>55</td>\n",
       "      <td>CLR</td>\n",
       "      <td>44</td>\n",
       "      <td>25</td>\n",
       "      <td>0</td>\n",
       "    </tr>\n",
       "    <tr>\n",
       "      <td>01</td>\n",
       "      <td>316</td>\n",
       "      <td>34</td>\n",
       "      <td>350</td>\n",
       "      <td>Domingo</td>\n",
       "      <td>0.0</td>\n",
       "      <td>0.0</td>\n",
       "      <td>80</td>\n",
       "      <td>CLR</td>\n",
       "      <td>44</td>\n",
       "      <td>26</td>\n",
       "      <td>0</td>\n",
       "    </tr>\n",
       "    <tr>\n",
       "      <td>02</td>\n",
       "      <td>256</td>\n",
       "      <td>24</td>\n",
       "      <td>280</td>\n",
       "      <td>Domingo</td>\n",
       "      <td>0.0</td>\n",
       "      <td>0.0</td>\n",
       "      <td>55</td>\n",
       "      <td>CLR</td>\n",
       "      <td>45</td>\n",
       "      <td>25</td>\n",
       "      <td>0</td>\n",
       "    </tr>\n",
       "    <tr>\n",
       "      <td>03</td>\n",
       "      <td>180</td>\n",
       "      <td>26</td>\n",
       "      <td>206</td>\n",
       "      <td>Domingo</td>\n",
       "      <td>0.0</td>\n",
       "      <td>0.0</td>\n",
       "      <td>722</td>\n",
       "      <td>SCT</td>\n",
       "      <td>44</td>\n",
       "      <td>25</td>\n",
       "      <td>0</td>\n",
       "    </tr>\n",
       "    <tr>\n",
       "      <td>04</td>\n",
       "      <td>87</td>\n",
       "      <td>9</td>\n",
       "      <td>96</td>\n",
       "      <td>Domingo</td>\n",
       "      <td>0.0</td>\n",
       "      <td>0.0</td>\n",
       "      <td>50</td>\n",
       "      <td>CLR</td>\n",
       "      <td>45</td>\n",
       "      <td>24</td>\n",
       "      <td>0</td>\n",
       "    </tr>\n",
       "    <tr>\n",
       "      <td>...</td>\n",
       "      <td>...</td>\n",
       "      <td>...</td>\n",
       "      <td>...</td>\n",
       "      <td>...</td>\n",
       "      <td>...</td>\n",
       "      <td>...</td>\n",
       "      <td>...</td>\n",
       "      <td>...</td>\n",
       "      <td>...</td>\n",
       "      <td>...</td>\n",
       "      <td>...</td>\n",
       "      <td>...</td>\n",
       "      <td>...</td>\n",
       "    </tr>\n",
       "    <tr>\n",
       "      <td rowspan=\"5\" valign=\"top\">12</td>\n",
       "      <td rowspan=\"5\" valign=\"top\">31</td>\n",
       "      <td>14</td>\n",
       "      <td>573</td>\n",
       "      <td>31</td>\n",
       "      <td>604</td>\n",
       "      <td>Domingo</td>\n",
       "      <td>0.0</td>\n",
       "      <td>0.0</td>\n",
       "      <td>110</td>\n",
       "      <td>CLR</td>\n",
       "      <td>15</td>\n",
       "      <td>-4</td>\n",
       "      <td>0</td>\n",
       "    </tr>\n",
       "    <tr>\n",
       "      <td>15</td>\n",
       "      <td>574</td>\n",
       "      <td>14</td>\n",
       "      <td>588</td>\n",
       "      <td>Domingo</td>\n",
       "      <td>0.0</td>\n",
       "      <td>0.0</td>\n",
       "      <td>722</td>\n",
       "      <td>SCT</td>\n",
       "      <td>14</td>\n",
       "      <td>-5</td>\n",
       "      <td>0</td>\n",
       "    </tr>\n",
       "    <tr>\n",
       "      <td>16</td>\n",
       "      <td>510</td>\n",
       "      <td>17</td>\n",
       "      <td>527</td>\n",
       "      <td>Domingo</td>\n",
       "      <td>0.0</td>\n",
       "      <td>0.0</td>\n",
       "      <td>722</td>\n",
       "      <td>CLR</td>\n",
       "      <td>13</td>\n",
       "      <td>-5</td>\n",
       "      <td>0</td>\n",
       "    </tr>\n",
       "    <tr>\n",
       "      <td>17</td>\n",
       "      <td>398</td>\n",
       "      <td>11</td>\n",
       "      <td>409</td>\n",
       "      <td>Domingo</td>\n",
       "      <td>0.0</td>\n",
       "      <td>0.0</td>\n",
       "      <td>722</td>\n",
       "      <td>CLR</td>\n",
       "      <td>13</td>\n",
       "      <td>-5</td>\n",
       "      <td>0</td>\n",
       "    </tr>\n",
       "    <tr>\n",
       "      <td>18</td>\n",
       "      <td>320</td>\n",
       "      <td>26</td>\n",
       "      <td>346</td>\n",
       "      <td>Domingo</td>\n",
       "      <td>0.0</td>\n",
       "      <td>0.0</td>\n",
       "      <td>722</td>\n",
       "      <td>CLR</td>\n",
       "      <td>12</td>\n",
       "      <td>-5</td>\n",
       "      <td>0</td>\n",
       "    </tr>\n",
       "  </tbody>\n",
       "</table>\n",
       "<p>11452 rows × 11 columns</p>\n",
       "</div>"
      ],
      "text/plain": [
       "                Subscribers  Customers  Total Dia da Semana  Chuva  Neve  CLG  \\\n",
       "Month Day Hour                                                                  \n",
       "01    01  00            295         58    353       Domingo    0.0   0.0   55   \n",
       "          01            316         34    350       Domingo    0.0   0.0   80   \n",
       "          02            256         24    280       Domingo    0.0   0.0   55   \n",
       "          03            180         26    206       Domingo    0.0   0.0  722   \n",
       "          04             87          9     96       Domingo    0.0   0.0   50   \n",
       "...                     ...        ...    ...           ...    ...   ...  ...   \n",
       "12    31  14            573         31    604       Domingo    0.0   0.0  110   \n",
       "          15            574         14    588       Domingo    0.0   0.0  722   \n",
       "          16            510         17    527       Domingo    0.0   0.0  722   \n",
       "          17            398         11    409       Domingo    0.0   0.0  722   \n",
       "          18            320         26    346       Domingo    0.0   0.0  722   \n",
       "\n",
       "                SKC  TEMP  DEWP Feriado  \n",
       "Month Day Hour                           \n",
       "01    01  00    CLR    44    25       0  \n",
       "          01    CLR    44    26       0  \n",
       "          02    CLR    45    25       0  \n",
       "          03    SCT    44    25       0  \n",
       "          04    CLR    45    24       0  \n",
       "...             ...   ...   ...     ...  \n",
       "12    31  14    CLR    15    -4       0  \n",
       "          15    SCT    14    -5       0  \n",
       "          16    CLR    13    -5       0  \n",
       "          17    CLR    13    -5       0  \n",
       "          18    CLR    12    -5       0  \n",
       "\n",
       "[11452 rows x 11 columns]"
      ]
     },
     "execution_count": 12,
     "metadata": {},
     "output_type": "execute_result"
    }
   ],
   "source": [
    "#Agora temos uma base para começar a trabalhar na exploração\n",
    "data_set_final\n",
    "\n",
    "#A seguir, apenas a demontração da redução da nossa base de 16 MM"
   ]
  },
  {
   "cell_type": "markdown",
   "metadata": {},
   "source": [
    "Ótimo! Recapitulando: adicionamos a precipitação de chuva, volume de neve, classificação das nuvens, temperatura (em fahrenheit) e o ponto de orvalho.\n",
    "<br>\n",
    "Para mais detalhes, a documentação dessa base que adicionamos está por [aqui](https://www.ncdc.noaa.gov/cdohtml//3505doc.txt)"
   ]
  },
  {
   "cell_type": "markdown",
   "metadata": {},
   "source": [
    "## 3. Análise Exploratória\n"
   ]
  },
  {
   "cell_type": "code",
   "execution_count": 36,
   "metadata": {},
   "outputs": [
    {
     "data": {
      "text/plain": [
       "<matplotlib.legend.Legend at 0x331956588>"
      ]
     },
     "execution_count": 36,
     "metadata": {},
     "output_type": "execute_result"
    },
    {
     "data": {
      "image/png": "[encoded data removed]",
      "text/plain": [
       "<Figure size 1080x360 with 1 Axes>"
      ]
     },
     "metadata": {},
     "output_type": "display_data"
    }
   ],
   "source": [
    "import matplotlib.pyplot as plt\n",
    "import seaborn as sns\n",
    "sns.set_style(\"darkgrid\")\n",
    "\n",
    "plt.figure(figsize=(15,5))\n",
    "plt.bar(range(len(data_set_final.groupby('Month').count()['Subscribers'])),data_set_final.reset_index().groupby('Month').sum()['Subscribers'], label = 'Subscribers')\n",
    "plt.bar(range(len(data_set_final.groupby('Month').count()['Customers'])),data_set_final.reset_index().groupby('Month').sum()['Customers'], label = 'Customers')\n",
    "plt.xticks(range(len(data_set_final.groupby('Month').count()['Total'])),['J','F','M','A','M','J','J','A','S','O','N','D'])\n",
    "plt.title('Bicicletas alugadas ao longo de 2017 \\n')\n",
    "plt.legend()"
   ]
  },
  {
   "cell_type": "markdown",
   "metadata": {},
   "source": [
    "Temos uma rampagem agressiva do primeiro para o segundo trimestre. A principal causa potencial para explorar é a estação do ano, especificamente porque de Dezembro a Março estamos falando do **inverno** no hemisfério norte."
   ]
  },
  {
   "cell_type": "code",
   "execution_count": 14,
   "metadata": {},
   "outputs": [
    {
     "data": {
      "text/plain": [
       "Text(0.5, 1.0, 'Distribuição de Temperatura ao longo do ano de 2017 \\n')"
      ]
     },
     "execution_count": 14,
     "metadata": {},
     "output_type": "execute_result"
    },
    {
     "data": {
      "image/png": "[encoded data removed]",
      "text/plain": [
       "<Figure size 1080x360 with 1 Axes>"
      ]
     },
     "metadata": {
      "needs_background": "light"
     },
     "output_type": "display_data"
    }
   ],
   "source": [
    "plt.figure(figsize=(15,5))\n",
    "sns.boxplot(x='Month', y='TEMP', data=data_set_final.reset_index())\n",
    "plt.xticks(range(len(data_set_final.groupby('Month').count()['Total'])),['J','F','M','A','M','J','J','A','S','O','N','D'])\n",
    "plt.title('Distribuição de Temperatura ao longo do ano de 2017 \\n')"
   ]
  },
  {
   "cell_type": "markdown",
   "metadata": {},
   "source": [
    "Aqui fortalecemos a hipótese do impacto da temperatura no uso das bicicletas, pois é possível perceber a diferença nos meses do inverno.\n",
    "<br>\n",
    "<br>\n",
    "A primeira recomendação é a de **gerar incentivo para novos cadastros para experimentação antes do inverno** para suavizar essa diferença. Essa lacuna na utilização gera uma oportunidade para **novas parcerias para levar clientes potenciais para as bicicletas**.\n",
    "<br>\n",
    "<br>\n",
    "Espera-se que as campanhas alavanquem o número de day-passes (customers), que reflitirá em inscritos (subscribers)."
   ]
  },
  {
   "cell_type": "code",
   "execution_count": 15,
   "metadata": {},
   "outputs": [
    {
     "data": {
      "text/plain": [
       "<matplotlib.legend.Legend at 0x35b9ffac8>"
      ]
     },
     "execution_count": 15,
     "metadata": {},
     "output_type": "execute_result"
    },
    {
     "data": {
      "image/png": "[encoded data removed]",
      "text/plain": [
       "<Figure size 1080x360 with 1 Axes>"
      ]
     },
     "metadata": {
      "needs_background": "light"
     },
     "output_type": "display_data"
    }
   ],
   "source": [
    "plt.figure(figsize=(15,5))\n",
    "plt.bar(range(len(data_set_final.groupby('Dia da Semana').sum()['Subscribers'].reindex(['Domingo','Segunda','Terca','Quarta','Quinta','Sexta','Sábado']))),data_set_final.groupby('Dia da Semana').sum()['Subscribers'].reindex(['Domingo','Segunda','Terca','Quarta','Quinta','Sexta','Sábado']), label = 'Subscribers')\n",
    "plt.bar(range(len(data_set_final.groupby('Dia da Semana').sum()['Customers'].reindex(['Domingo','Segunda','Terca','Quarta','Quinta','Sexta','Sábado']))),data_set_final.groupby('Dia da Semana').sum()['Customers'].reindex(['Domingo','Segunda','Terca','Quarta','Quinta','Sexta','Sábado']), label = 'Customers')\n",
    "plt.xticks(range(len(data_set_final.groupby('Dia da Semana').sum()['Customers'])),['D','S','T','Q','Q','S','S'])\n",
    "plt.title('Bicicletas alugadas ao longo de 2017 \\n')\n",
    "plt.legend()"
   ]
  },
  {
   "cell_type": "markdown",
   "metadata": {},
   "source": [
    "O **final de semana é impactado** por um aumento de day-passes. Esse fato pode gerar uma oportunidade para produtos de longo prazo durante o final de semana para otimizar o LTV desse segmento de clientes.\n",
    "<br>\n",
    "Além disso, cabe uma chance de uma régua de relacionamento exclusiva para esse perfil de cliente com o objetivo de up-sell (possivelmente por meio do novo produto potencial citado)."
   ]
  },
  {
   "cell_type": "code",
   "execution_count": 16,
   "metadata": {},
   "outputs": [
    {
     "data": {
      "text/plain": [
       "<matplotlib.legend.Legend at 0x34abe4048>"
      ]
     },
     "execution_count": 16,
     "metadata": {},
     "output_type": "execute_result"
    },
    {
     "data": {
      "image/png": "[encoded data removed]",
      "text/plain": [
       "<Figure size 1080x360 with 2 Axes>"
      ]
     },
     "metadata": {
      "needs_background": "light"
     },
     "output_type": "display_data"
    }
   ],
   "source": [
    "width = 0.2\n",
    "f, (ax1, ax2) = plt.subplots(1,2, figsize=(15,5), sharey = True)\n",
    "ax1.bar(range(len(data_set_final[data_set_final['Feriado'] == 1].groupby('Dia da Semana').mean()['Subscribers'].reindex(['Segunda','Terca','Quinta','Sexta']))),data_set_final[data_set_final['Feriado'] == 1].groupby('Dia da Semana').mean()['Subscribers'].reindex(['Segunda','Terca','Quinta','Sexta']), width = width, label = 'Subscribers Feriado')\n",
    "ax1.bar([0.2,1.2,2.2,3.2],data_set_final[data_set_final['Feriado'] == 0].groupby('Dia da Semana').mean()['Subscribers'].reindex(['Segunda','Terca','Quinta','Sexta']), width = width, label = 'Subscribers Não Feriado')\n",
    "ax1.set_xticks([0.1,1.1,2.1,3.1])\n",
    "ax1.set_xticklabels(['Segunda','Terca','Quinta','Sexta'])\n",
    "ax1.set_title('Bicicletas alugadas ao longo de 2017 por Subscribers no feriado \\n')\n",
    "ax1.set_ylabel('Média/hora')\n",
    "ax1.legend()\n",
    "\n",
    "ax2.bar(range(len(data_set_final[data_set_final['Feriado'] == 1].groupby('Dia da Semana').mean()['Customers'].reindex(['Segunda','Terca','Quinta','Sexta']))),data_set_final[data_set_final['Feriado'] == 1].groupby('Dia da Semana').mean()['Customers'].reindex(['Segunda','Terca','Quinta','Sexta']), width = width, label = 'Customers Feriado')\n",
    "ax2.bar([0.2,1.2,2.2,3.2],data_set_final[data_set_final['Feriado'] == 0].groupby('Dia da Semana').mean()['Customers'].reindex(['Segunda','Terca','Quinta','Sexta']), width = width, label = 'Customers Não Feriado')\n",
    "ax2.set_xticks([0.1,1.1,2.1,3.1])\n",
    "ax2.set_xticklabels(['Segunda','Terca','Quinta','Sexta'])\n",
    "ax2.set_title('Bicicletas alugadas ao longo de 2017 por Customers no feriado \\n')\n",
    "ax2.legend()"
   ]
  },
  {
   "cell_type": "markdown",
   "metadata": {},
   "source": [
    "O comparativo de Subscribers aponta que o perfil de cliente parece indicar que os assinantes parecem usar o negócio como meio de transporte para o trabalho, e não em dias de lazer.\n",
    "<br>\n",
    "Isso pode indicar uma **oportunidade de planos para usuários que queiram usar eventualmente**, numa tentativa de up-sell para o day-pass.\n",
    "<br>\n",
    "Vale reforçar que o ano de 2017 contou com poucos feriados, o que pode impactar nessa percepção."
   ]
  },
  {
   "cell_type": "code",
   "execution_count": 101,
   "metadata": {},
   "outputs": [
    {
     "data": {
      "text/plain": [
       "<matplotlib.legend.Legend at 0x356e38860>"
      ]
     },
     "execution_count": 101,
     "metadata": {},
     "output_type": "execute_result"
    },
    {
     "data": {
      "image/png": "[encoded data removed]",
      "text/plain": [
       "<Figure size 1080x360 with 2 Axes>"
      ]
     },
     "metadata": {},
     "output_type": "display_data"
    }
   ],
   "source": [
    "width = 0.2\n",
    "f, (ax1, ax2) = plt.subplots(1,2, figsize=(15,5), sharey = True)\n",
    "ax1.bar(range(len(data_set_final[data_set_final['Chuva'] > 0].groupby('Month').mean()['Subscribers'])),data_set_final[data_set_final['Chuva'] > 0].groupby('Month').mean()['Subscribers'], width = width, label = 'Subscribers Chuva')\n",
    "ax1.bar([0.2,1.2,2.2,3.2,4.2,5.2,6.2,7.2,8.2,9.2,10.2,11.2],data_set_final[data_set_final['Chuva'] == 0].groupby('Month').mean()['Subscribers'], width = width, label = 'Subscribers Não Chuva')\n",
    "ax1.set_xticks([0.1,1.1,2.1,3.1,4.1,5.1,6.1,7.1,8.1,9.1,10.1,11.1])\n",
    "ax1.set_xticklabels(['J','F','M','A','M','J','J','A','S','O','N','D'])\n",
    "ax1.set_title('Bicicletas alugadas ao longo de 2017 por Subscribers em dias de chuva\\n')\n",
    "ax1.set_ylabel('Média/hora')\n",
    "ax1.legend()\n",
    "\n",
    "ax2.bar(range(len(data_set_final[data_set_final['Chuva'] > 0].groupby('Month').mean()['Customers'])),data_set_final[data_set_final['Chuva'] > 0].groupby('Month').mean()['Customers'], width = width, label = 'Customers Chuva')\n",
    "ax2.bar([0.2,1.2,2.2,3.2,4.2,5.2,6.2,7.2,8.2,9.2,10.2,11.2],data_set_final[data_set_final['Chuva'] == 0].groupby('Month').mean()['Customers'], width = width, label = 'Customers Não Chuva')\n",
    "ax2.set_xticks([0.1,1.1,2.1,3.1,4.1,5.1,6.1,7.1,8.1,9.1,10.1,11.1])\n",
    "ax2.set_xticklabels(['J','F','M','A','M','J','J','A','S','O','N','D'])\n",
    "ax2.set_title('Bicicletas alugadas ao longo de 2017 por Customers em dias de chuva \\n')\n",
    "ax2.legend()"
   ]
  },
  {
   "cell_type": "markdown",
   "metadata": {},
   "source": [
    "Apesar do impacto evidente da chuva, **o mês mais quente do ano** - Junho - **tem uma similaridade de clientes com day-pass em dias de chuva e em dias secos**.\n",
    "<br>\n",
    "Isso nos leva a reflexão sobre eventuais campanhas mesmo em dias de chuva para alavancar o uso das bicicletas nesse mês.\n",
    "<br>\n",
    "Além disso, essa variável se mostrou mais uma vez útil quando formos fazer nosso modelo de propensão ao uso."
   ]
  },
  {
   "cell_type": "code",
   "execution_count": 43,
   "metadata": {},
   "outputs": [],
   "source": [
    "birth_years = data_full.groupby('birth year').count().compute()"
   ]
  },
  {
   "cell_type": "code",
   "execution_count": 81,
   "metadata": {},
   "outputs": [
    {
     "data": {
      "text/plain": [
       "Text(0.5, 1.0, 'Distribuição de Gerações ao longo de 2017 \\n')"
      ]
     },
     "execution_count": 81,
     "metadata": {},
     "output_type": "execute_result"
    },
    {
     "data": {
      "image/png": "[encoded data removed]",
      "text/plain": [
       "<Figure size 1080x360 with 1 Axes>"
      ]
     },
     "metadata": {},
     "output_type": "display_data"
    }
   ],
   "source": [
    "birth_years_ = pd.DataFrame(birth_years['tripduration'].reset_index().sort_values('birth year', ascending = True))\n",
    "birth_years_['birth year'] = birth_years_['birth year'].astype(int)\n",
    "birth_years_['idade'] = 2019-birth_years_['birth year']\n",
    "\n",
    "def idade(X):\n",
    "    if X['idade'] <= 22:\n",
    "        return 'Geração Z'\n",
    "    elif X['idade'] <= 38:\n",
    "        return 'Millenial'\n",
    "    elif X['idade'] <= 54:\n",
    "        return 'Geração X'\n",
    "    elif X['idade'] <= 73:\n",
    "        return 'Boomer'\n",
    "    else:\n",
    "        return 'Silent'\n",
    "    \n",
    "birth_years_['geracao'] = birth_years_.apply(idade, axis = 1)\n",
    "geracao = pd.DataFrame(birth_years_.groupby('geracao').sum()['tripduration']).sort_values('tripduration', ascending = False)\n",
    "\n",
    "plt.figure(figsize=(15,5))\n",
    "plt.barh(range(len(geracao)), geracao['tripduration'])\n",
    "plt.yticks(range(len(geracao)),['Millenial','Geração X','Boomer','Geração Z','Silent'])\n",
    "plt.title('Distribuição de Gerações ao longo de 2017 \\n')"
   ]
  },
  {
   "cell_type": "markdown",
   "metadata": {},
   "source": [
    "A Geração Z (até 22 anos) conta uma participação muito tímida na utilização dos recursos. A reflexão a ser feita é sobre como potencializar o uso dos jovens em relação ao serviço, possivelmente impactando até a tarifa para esse grupo."
   ]
  },
  {
   "cell_type": "code",
   "execution_count": 102,
   "metadata": {},
   "outputs": [],
   "source": [
    "bike_stations = data_full.groupby('start station id').count().compute()"
   ]
  },
  {
   "cell_type": "code",
   "execution_count": 110,
   "metadata": {},
   "outputs": [
    {
     "data": {
      "text/plain": [
       "Text(0.5, 1.0, 'Distribuição de utilização (origem) por estação em 2017 \\n')"
      ]
     },
     "execution_count": 110,
     "metadata": {},
     "output_type": "execute_result"
    },
    {
     "data": {
      "image/png": "[encoded data removed]",
      "text/plain": [
       "<Figure size 1080x360 with 1 Axes>"
      ]
     },
     "metadata": {},
     "output_type": "display_data"
    }
   ],
   "source": [
    "bike_stations_ = pd.DataFrame(bike_stations['tripduration']).sort_values('tripduration', ascending = False)\n",
    "\n",
    "plt.figure(figsize=(15,5))\n",
    "plt.bar(range(len(bike_stations_)),bike_stations_['tripduration'])\n",
    "plt.xlabel('Identificação da Estação')\n",
    "plt.title('Distribuição de utilização (origem) por estação em 2017 \\n')"
   ]
  },
  {
   "cell_type": "markdown",
   "metadata": {},
   "source": [
    "Percepção de variabilidade em relação ás estações demonstra duas potenciais causas: oportunidade de melhor distribuição das estações ou estações marcadas como origem (ou destino) comum.\n",
    "<br>\n",
    "Apesar de muito relevante, esse aspecto operacional não será debatido nesse notebook - ficando como uma grande recomendação de estudo futuro."
   ]
  },
  {
   "cell_type": "markdown",
   "metadata": {},
   "source": [
    "## 3. Preparação para modelagem\n",
    "Vamos retomar que nosso objetivo aqui é de **criar um modelo de propensão da quantidade de bicicletas por dia e hora**.\n",
    "<br>\n",
    "Com isso, vamos ajustar nossa base para rodar alguns modelos e avaliar resultados"
   ]
  },
  {
   "cell_type": "code",
   "execution_count": 18,
   "metadata": {},
   "outputs": [],
   "source": [
    "#Criamos uma cópia para a modelagem\n",
    "data_set_modelo = data_set_final.reset_index()\n",
    "\n",
    "#Selecionando apenas as variáveis que vão se modelar\n",
    "X = data_set_modelo[['Month', 'Day', 'Hour',\n",
    "       'Dia da Semana', 'Chuva', 'Neve', 'CLG', 'SKC', 'TEMP', 'DEWP',\n",
    "       'Feriado']]\n",
    "\n",
    "#Selecionando a variável alvo\n",
    "y = data_set_modelo[['Total']]"
   ]
  },
  {
   "cell_type": "code",
   "execution_count": 19,
   "metadata": {},
   "outputs": [],
   "source": [
    "from sklearn.pipeline import make_pipeline, FeatureUnion, Pipeline\n",
    "from sklearn.base import BaseEstimator, TransformerMixin\n",
    "from sklearn.preprocessing import OneHotEncoder, StandardScaler\n",
    "from sklearn.impute import SimpleImputer\n",
    "\n",
    "#Meu primeiro passo é criar um custom transformer para apenas selecionar as colunas que desejo\n",
    "class ColumnSelector(BaseEstimator, TransformerMixin):\n",
    "    def __init__(self, columns):\n",
    "        self.columns = columns\n",
    "\n",
    "    def fit(self, X, y=None):\n",
    "        return self\n",
    "\n",
    "    def transform(self, X):\n",
    "        assert isinstance(X, pd.DataFrame)\n",
    "\n",
    "        try:\n",
    "            return X[self.columns]\n",
    "        except KeyError:\n",
    "            cols_error = list(set(self.columns) - set(X.columns))\n",
    "            raise KeyError(\"The DataFrame does not include the columns: %s\" % cols_error)\n",
    "\n",
    "#O segundo passo é direcionar as colunas de acordo com sua classificação\n",
    "class SelectType(BaseEstimator, TransformerMixin):\n",
    "    def __init__(self, dtype):\n",
    "        self.dtype = dtype\n",
    "    \n",
    "    def fit(self, X, y = None):\n",
    "        return self\n",
    "    \n",
    "    def transform(self, X):\n",
    "        return X.select_dtypes(include = [self.dtype])"
   ]
  },
  {
   "cell_type": "code",
   "execution_count": 20,
   "metadata": {},
   "outputs": [],
   "source": [
    "#Agora vamos criar um pipeline de dados para: escolher as colunas corretas do modelo,\n",
    "#dividir a base de acordo com seu tipo,\n",
    "#gerar variáveis binárias para colunas categorizadas,\n",
    "#normalizar as variáveis numéricas.\n",
    "\n",
    "from sklearn.pipeline import make_pipeline\n",
    "\n",
    "preprocessing_pipeline = make_pipeline(\n",
    "    ColumnSelector(columns=['Month', 'Day', 'Hour',\n",
    "       'Dia da Semana', 'Chuva', 'Neve', 'CLG', 'SKC', 'TEMP', 'DEWP',\n",
    "       'Feriado']),\n",
    "    FeatureUnion(transformer_list = [\n",
    "    ('Numbers', make_pipeline(\n",
    "        SelectType(np.number), SimpleImputer(strategy='median'), StandardScaler())),\n",
    "    ('Object', make_pipeline(\n",
    "        SelectType('object'), SimpleImputer(strategy='most_frequent'), OneHotEncoder(handle_unknown=\"ignore\")))\n",
    "])\n",
    ")"
   ]
  },
  {
   "cell_type": "markdown",
   "metadata": {},
   "source": [
    "**Por quê fizemos isso?**\n",
    "<br>\n",
    "Nosso objetivo é de gerar cross-validations ao longo da nossa base, com o objetivo de selecionar um modelo que seja estável e com **capacidade de generalizar o resultado em bases desconhecidas**.\n",
    "<br>\n",
    "<br>\n",
    "O pipeline de dados garantirá que não haverá o evento de **vazamento de dados** entre as bases de teste e as bases de treino, e portanto teremos resultados mais confiáveis para decidir o modelo."
   ]
  },
  {
   "cell_type": "markdown",
   "metadata": {},
   "source": [
    "## 4. Modelagem e Otimização\n",
    "\n",
    "<br>\n",
    "Nossa métrica de avaliação escolhida para essa regressão é o RMSE.\n",
    "<br>\n",
    "<br>\n",
    "Cada modelo a seguir passará por diferentes combinações de parâmetros para encontrar sua melhor performance.\n",
    "<br>\n",
    "Cada uma dessas combinações será analisada cinco vezes por bases divididas de formas diferentes, com o objetivo de aumentar a confiabilidade do nosso resultado.\n",
    "<br>\n",
    "<br>\n",
    "Vamos para nosso primeiro modelo: Ridge Regression."
   ]
  },
  {
   "cell_type": "code",
   "execution_count": 21,
   "metadata": {},
   "outputs": [
    {
     "data": {
      "text/plain": [
       "-906870.6560808584"
      ]
     },
     "execution_count": 21,
     "metadata": {},
     "output_type": "execute_result"
    }
   ],
   "source": [
    "from sklearn.linear_model import Ridge\n",
    "from sklearn.model_selection import GridSearchCV\n",
    "\n",
    "classifier_pipeline_ridge = make_pipeline(preprocessing_pipeline,\n",
    "                                    Ridge()\n",
    ")\n",
    "\n",
    "param_grid = {\"ridge__alpha\": [0.01, 0.1, 1, 10, 20, 30, 40, 50, 60, 70, 80, 100]}\n",
    "\n",
    "classifier_model_ridge = GridSearchCV(classifier_pipeline_ridge, param_grid, cv=5, scoring = 'neg_mean_squared_error')\n",
    "classifier_model_ridge.fit(X,y)\n",
    "classifier_model_ridge.best_score_"
   ]
  },
  {
   "cell_type": "markdown",
   "metadata": {},
   "source": [
    "Agora vamos para nosso segudo modelo: ***Lasso***."
   ]
  },
  {
   "cell_type": "code",
   "execution_count": 22,
   "metadata": {},
   "outputs": [
    {
     "data": {
      "text/plain": [
       "-902843.0152884991"
      ]
     },
     "execution_count": 22,
     "metadata": {},
     "output_type": "execute_result"
    }
   ],
   "source": [
    "from sklearn.linear_model import Lasso\n",
    "\n",
    "classifier_pipeline_lasso = make_pipeline(preprocessing_pipeline,\n",
    "                                      Lasso())\n",
    "\n",
    "param_grid = {\"lasso__alpha\": [0.01, 0.1, 1, 10, 20, 30, 40, 50, 60, 70, 80, 90, 100, 200]}\n",
    "\n",
    "classifier_model_lasso = GridSearchCV(classifier_pipeline_lasso, param_grid, cv=5, scoring = 'neg_mean_squared_error')\n",
    "classifier_model_lasso.fit(X,y)\n",
    "classifier_model_lasso.best_score_"
   ]
  },
  {
   "cell_type": "markdown",
   "metadata": {},
   "source": [
    "Vamos seguir para o nosso terceiro modelo: ***Kernel Ridge***."
   ]
  },
  {
   "cell_type": "code",
   "execution_count": 23,
   "metadata": {},
   "outputs": [
    {
     "data": {
      "text/plain": [
       "-912159.0529186665"
      ]
     },
     "execution_count": 23,
     "metadata": {},
     "output_type": "execute_result"
    }
   ],
   "source": [
    "from sklearn.kernel_ridge import KernelRidge\n",
    "\n",
    "classifier_pipeline_krr = make_pipeline(preprocessing_pipeline,\n",
    "                                      KernelRidge())\n",
    "\n",
    "param_grid = {\"kernelridge__alpha\": [0.01, 0.1, 1, 10]}\n",
    "\n",
    "classifier_model_krr = GridSearchCV(classifier_pipeline_krr, param_grid, cv=5, scoring = 'neg_mean_squared_error')\n",
    "classifier_model_krr.fit(X,y)\n",
    "classifier_model_krr.best_score_"
   ]
  },
  {
   "cell_type": "markdown",
   "metadata": {},
   "source": [
    "Próximo modelo: ***Random Forest***."
   ]
  },
  {
   "cell_type": "code",
   "execution_count": 24,
   "metadata": {},
   "outputs": [
    {
     "data": {
      "text/plain": [
       "-1872366.3937164024"
      ]
     },
     "execution_count": 24,
     "metadata": {},
     "output_type": "execute_result"
    }
   ],
   "source": [
    "from sklearn.ensemble import RandomForestRegressor\n",
    "\n",
    "classifier_pipeline_rf = make_pipeline(preprocessing_pipeline,\n",
    "                                      RandomForestRegressor())\n",
    "\n",
    "param_grid = {\"randomforestregressor__max_depth\": [2,3,4]}\n",
    "\n",
    "classifier_model_rf = GridSearchCV(classifier_pipeline_rf, param_grid, cv=5, scoring = 'neg_mean_squared_error')\n",
    "classifier_model_rf.fit(X,y)\n",
    "classifier_model_rf.best_score_"
   ]
  },
  {
   "cell_type": "code",
   "execution_count": 25,
   "metadata": {},
   "outputs": [
    {
     "data": {
      "text/plain": [
       "-475130.22400070226"
      ]
     },
     "execution_count": 25,
     "metadata": {},
     "output_type": "execute_result"
    }
   ],
   "source": [
    "from sklearn.ensemble import GradientBoostingRegressor\n",
    "\n",
    "classifier_pipeline_xg = make_pipeline(preprocessing_pipeline,\n",
    "GradientBoostingRegressor())\n",
    "\n",
    "param_grid = {'gradientboostingregressor__n_estimators': [100,200], 'gradientboostingregressor__max_depth': [3,4], 'gradientboostingregressor__min_samples_split': [2],\n",
    "          'gradientboostingregressor__learning_rate': [0.01,0.1,1,10], 'gradientboostingregressor__loss': ['ls']}\n",
    "\n",
    "classifier_model_xgboost = GridSearchCV(classifier_pipeline_xg, param_grid, cv=5, scoring = 'neg_mean_squared_error')\n",
    "\n",
    "classifier_model_xgboost.fit(X,y)\n",
    "classifier_model_xgboost.best_score_"
   ]
  },
  {
   "cell_type": "markdown",
   "metadata": {},
   "source": [
    "O melhor resultado que tivemos foi do **XGBoost**.\n",
    "<br>"
   ]
  },
  {
   "cell_type": "markdown",
   "metadata": {},
   "source": [
    "## 5. Desfecho e Recomendações"
   ]
  },
  {
   "cell_type": "markdown",
   "metadata": {},
   "source": [
    "- O período de inverno é o maior ponto de atenção durante o ano, pois a utilização do serviço cai drasticamente. Para enfrentar esse ponto, recomenda-se ações de incentivo (com parcerias e novos planos) durante esse intervalo para estimular o consumo;\n",
    "- O fim de semana é bastante consumido com day-passes. Para atingir esse nicho, um plano específico para esse perfil de cliente pode ser uma opção para up-sell. Recomenda-se uma exploração maior para entender ainda a diferença entre locais/turistas.\n",
    "- Feriados reduzem muito a utilização do serviço para subscribers, entretanto há uma oportunidade para day-passes com um volume interessante. A recomendação é que esse público sujeito a experimentação seja afetado por uma régua de relacionamento com objetivo de oferecer um plano de entretenimento ou de rotina.\n",
    "- A geração Z apresenta um baixo percentual de uso frente aos demais. O incentivo ao público até 22 anos é uma alavanca a ser explorada - possivelmente até pela tarifa do serviço.\n",
    "- As chuvas impactam o uso de bicicletas, porém no mês mais quente há um impacto menor. Esse fator pode ser um gatilho para campanhas envolvendo capas de chuva e parcerias durante dias quentes mesmo com chuva. Além disso, consolidamos esse fator como uma variável relevante para o modelo de propensão de uso de bicicletas (a ser discutido a seguir).\n",
    "- Foi desenvolvido um modelo em Machine Learning para prever a utilização de bicicletas por dia e hora. Esse sistema pode ajudar na tomada de decisão do planejamento de compras de bicicletas, suporte técnico de atendimento e manutenção, além como um auxílio na projeção eficiente de fluxo de caixa.\n",
    "\n",
    "Além disso, para recomendações de estudos futuros:\n",
    "- Otimização da localização das estações;\n",
    "- Otimização da capacidade de cada estação;\n",
    "- Otimização do fluxo de bicicletas entre estações;\n",
    "- Predição de manutenção em bicicletas;"
   ]
  }
 ],
 "metadata": {
  "kernelspec": {
   "display_name": "Python 3",
   "language": "python",
   "name": "python3"
  },
  "language_info": {
   "codemirror_mode": {
    "name": "ipython",
    "version": 3
   },
   "file_extension": ".py",
   "mimetype": "text/x-python",
   "name": "python",
   "nbconvert_exporter": "python",
   "pygments_lexer": "ipython3",
   "version": "3.7.3"
  }
 },
 "nbformat": 4,
 "nbformat_minor": 2
}
